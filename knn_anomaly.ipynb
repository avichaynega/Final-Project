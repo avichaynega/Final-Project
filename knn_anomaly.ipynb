{
  "nbformat": 4,
  "nbformat_minor": 0,
  "metadata": {
    "colab": {
      "name": "knn_anomaly.ipynb",
      "provenance": [],
      "collapsed_sections": [],
      "include_colab_link": true
    },
    "kernelspec": {
      "name": "python3",
      "display_name": "Python 3"
    },
    "language_info": {
      "name": "python"
    }
  },
  "cells": [
    {
      "cell_type": "markdown",
      "metadata": {
        "id": "view-in-github",
        "colab_type": "text"
      },
      "source": [
        "<a href=\"https://colab.research.google.com/github/avichaynega/Final-Project/blob/master/knn_anomaly.ipynb\" target=\"_parent\"><img src=\"https://colab.research.google.com/assets/colab-badge.svg\" alt=\"Open In Colab\"/></a>"
      ]
    },
    {
      "cell_type": "code",
      "metadata": {
        "id": "kbwhnjvIZuJq"
      },
      "source": [
        "# import libraries\n",
        "import pandas as pd\n",
        "import numpy as np\n",
        "import matplotlib.pyplot as plt\n",
        "from sklearn.neighbors import NearestNeighbors"
      ],
      "execution_count": 126,
      "outputs": []
    },
    {
      "cell_type": "markdown",
      "metadata": {
        "id": "uKeixB3wZ1B4"
      },
      "source": [
        "# Data preparation\n",
        "we are using the cat consuming habits dataset from the Github repo."
      ]
    },
    {
      "cell_type": "code",
      "metadata": {
        "id": "y80JsyNhZzEv",
        "colab": {
          "base_uri": "https://localhost:8080/",
          "height": 204
        },
        "outputId": "95554487-4366-4444-da3e-0524f764c7c0"
      },
      "source": [
        "# import data\n",
        "data = pd.read_csv(\"https://raw.githubusercontent.com/avichaynega/Final-Project/master/dataset/ds.csv\")\n",
        "data.head()\n"
      ],
      "execution_count": 127,
      "outputs": [
        {
          "output_type": "execute_result",
          "data": {
            "text/html": [
              "<div>\n",
              "<style scoped>\n",
              "    .dataframe tbody tr th:only-of-type {\n",
              "        vertical-align: middle;\n",
              "    }\n",
              "\n",
              "    .dataframe tbody tr th {\n",
              "        vertical-align: top;\n",
              "    }\n",
              "\n",
              "    .dataframe thead th {\n",
              "        text-align: right;\n",
              "    }\n",
              "</style>\n",
              "<table border=\"1\" class=\"dataframe\">\n",
              "  <thead>\n",
              "    <tr style=\"text-align: right;\">\n",
              "      <th></th>\n",
              "      <th>catid</th>\n",
              "      <th>foodweight</th>\n",
              "      <th>time</th>\n",
              "      <th>eatingfrequency</th>\n",
              "      <th>consavg</th>\n",
              "      <th>deltaw</th>\n",
              "      <th>date</th>\n",
              "      <th>index</th>\n",
              "    </tr>\n",
              "  </thead>\n",
              "  <tbody>\n",
              "    <tr>\n",
              "      <th>0</th>\n",
              "      <td>1</td>\n",
              "      <td>105.22</td>\n",
              "      <td>00:00</td>\n",
              "      <td>1</td>\n",
              "      <td>-</td>\n",
              "      <td>5.39</td>\n",
              "      <td>1.9.21</td>\n",
              "      <td>1</td>\n",
              "    </tr>\n",
              "    <tr>\n",
              "      <th>1</th>\n",
              "      <td>1</td>\n",
              "      <td>101.95</td>\n",
              "      <td>01:30</td>\n",
              "      <td>2</td>\n",
              "      <td>-</td>\n",
              "      <td>5.34</td>\n",
              "      <td>1.9.21</td>\n",
              "      <td>2</td>\n",
              "    </tr>\n",
              "    <tr>\n",
              "      <th>2</th>\n",
              "      <td>1</td>\n",
              "      <td>103.68</td>\n",
              "      <td>03:00</td>\n",
              "      <td>3</td>\n",
              "      <td>-</td>\n",
              "      <td>5.67</td>\n",
              "      <td>1.9.21</td>\n",
              "      <td>3</td>\n",
              "    </tr>\n",
              "    <tr>\n",
              "      <th>3</th>\n",
              "      <td>1</td>\n",
              "      <td>102.91</td>\n",
              "      <td>06:00</td>\n",
              "      <td>4</td>\n",
              "      <td>-</td>\n",
              "      <td>4.56</td>\n",
              "      <td>1.9.21</td>\n",
              "      <td>4</td>\n",
              "    </tr>\n",
              "    <tr>\n",
              "      <th>4</th>\n",
              "      <td>1</td>\n",
              "      <td>103.99</td>\n",
              "      <td>05:30</td>\n",
              "      <td>5</td>\n",
              "      <td>NaN</td>\n",
              "      <td>5.03</td>\n",
              "      <td>1.9.21</td>\n",
              "      <td>5</td>\n",
              "    </tr>\n",
              "  </tbody>\n",
              "</table>\n",
              "</div>"
            ],
            "text/plain": [
              "   catid  foodweight   time  eatingfrequency consavg  deltaw    date  index\n",
              "0      1      105.22  00:00                1       -    5.39  1.9.21      1\n",
              "1      1      101.95  01:30                2       -    5.34  1.9.21      2\n",
              "2      1      103.68  03:00                3       -    5.67  1.9.21      3\n",
              "3      1      102.91  06:00                4       -    4.56  1.9.21      4\n",
              "4      1      103.99  05:30                5     NaN    5.03  1.9.21      5"
            ]
          },
          "metadata": {},
          "execution_count": 127
        }
      ]
    },
    {
      "cell_type": "markdown",
      "metadata": {
        "id": "FYQRv-VQZ3Dx"
      },
      "source": [
        "# Anomaly Detection Using KNN (K Nearest Neighbors)"
      ]
    },
    {
      "cell_type": "code",
      "metadata": {
        "colab": {
          "base_uri": "https://localhost:8080/"
        },
        "id": "6A9pbXGJZ-k1",
        "outputId": "d51cb3f7-cdc9-41b3-8d36-7972748fefcf"
      },
      "source": [
        "# input data\n",
        "df = data[[\"deltaw\",\"index\"]]\n",
        "\n",
        "X = df.values\n",
        "\n",
        "nbrs = NearestNeighbors(n_neighbors =10)\n",
        "\n",
        "# fit model\n",
        "nbrs.fit(X)"
      ],
      "execution_count": 128,
      "outputs": [
        {
          "output_type": "execute_result",
          "data": {
            "text/plain": [
              "NearestNeighbors(algorithm='auto', leaf_size=30, metric='minkowski',\n",
              "                 metric_params=None, n_jobs=None, n_neighbors=10, p=2,\n",
              "                 radius=1.0)"
            ]
          },
          "metadata": {},
          "execution_count": 128
        }
      ]
    },
    {
      "cell_type": "markdown",
      "metadata": {
        "id": "bQ0c6VtJaIhn"
      },
      "source": [
        "anomaly detection\n"
      ]
    },
    {
      "cell_type": "code",
      "metadata": {
        "colab": {
          "base_uri": "https://localhost:8080/",
          "height": 282
        },
        "id": "x1SraqdlaLEy",
        "outputId": "4532c6bc-63a0-47d3-b72f-64333198a172"
      },
      "source": [
        "# distances and indexes of k-neaighbors from model outputs\n",
        "distances, indexes = nbrs.kneighbors(X)\n",
        "# plot mean of k-distances of each observation\n",
        "plt.plot(distances.mean(axis =1))\n"
      ],
      "execution_count": 129,
      "outputs": [
        {
          "output_type": "execute_result",
          "data": {
            "text/plain": [
              "[<matplotlib.lines.Line2D at 0x7fabec899110>]"
            ]
          },
          "metadata": {},
          "execution_count": 129
        },
        {
          "output_type": "display_data",
          "data": {
            "image/png": "[encoded data removed]",
            "text/plain": [
              "<Figure size 432x288 with 1 Axes>"
            ]
          },
          "metadata": {
            "needs_background": "light"
          }
        }
      ]
    },
    {
      "cell_type": "code",
      "metadata": {
        "id": "z16vN2NfqIPt"
      },
      "source": [
        ""
      ],
      "execution_count": 129,
      "outputs": []
    },
    {
      "cell_type": "code",
      "metadata": {
        "colab": {
          "base_uri": "https://localhost:8080/",
          "height": 299
        },
        "id": "8mMTgxelqITJ",
        "outputId": "89ffdf25-ca2c-48e1-cca9-8c7f0dec9c66"
      },
      "source": [
        "df.plot.scatter(x='deltaw', y='index')"
      ],
      "execution_count": 130,
      "outputs": [
        {
          "output_type": "execute_result",
          "data": {
            "text/plain": [
              "<matplotlib.axes._subplots.AxesSubplot at 0x7fabec84ce90>"
            ]
          },
          "metadata": {},
          "execution_count": 130
        },
        {
          "output_type": "display_data",
          "data": {
            "image/png": "[encoded data removed]",
            "text/plain": [
              "<Figure size 432x288 with 1 Axes>"
            ]
          },
          "metadata": {
            "needs_background": "light"
          }
        }
      ]
    },
    {
      "cell_type": "code",
      "metadata": {
        "id": "FgNiyoAHaPqd"
      },
      "source": [
        "# visually determine cutoff values > 0.15\n",
        "outlier_index = np.where(distances.mean(axis = 1) >3.3)\n",
        "\n",
        "# filter outlier values\n",
        "outlier_values = df.iloc[outlier_index]"
      ],
      "execution_count": 131,
      "outputs": []
    },
    {
      "cell_type": "code",
      "metadata": {
        "id": "TyM_9VJkaXIO",
        "colab": {
          "base_uri": "https://localhost:8080/",
          "height": 285
        },
        "outputId": "36ef94cb-c3a2-4e85-fadd-089a0ecebafe"
      },
      "source": [
        "# plot data\n",
        "plt.scatter(df[\"deltaw\"], df[\"index\"], color = \"b\", s = 65)\n",
        "# plot outlier values\n",
        "plt.scatter(outlier_values[\"deltaw\"], outlier_values[\"index\"], color = \"r\")"
      ],
      "execution_count": 132,
      "outputs": [
        {
          "output_type": "execute_result",
          "data": {
            "text/plain": [
              "<matplotlib.collections.PathCollection at 0x7fabec7cbd90>"
            ]
          },
          "metadata": {},
          "execution_count": 132
        },
        {
          "output_type": "display_data",
          "data": {
            "image/png": "[encoded data removed]",
            "text/plain": [
              "<Figure size 432x288 with 1 Axes>"
            ]
          },
          "metadata": {
            "needs_background": "light"
          }
        }
      ]
    },
    {
      "cell_type": "markdown",
      "metadata": {
        "id": "oKGXV0d5HZPQ"
      },
      "source": [
        "# **Anomaly Detection using IsolationForest**"
      ]
    },
    {
      "cell_type": "code",
      "metadata": {
        "id": "y0bf0-qt5AY1",
        "outputId": "a1c8af97-49dd-4adb-d4ea-a1003f411702",
        "colab": {
          "base_uri": "https://localhost:8080/",
          "height": 285
        }
      },
      "source": [
        "from sklearn.ensemble import IsolationForest\n",
        "\n",
        "model=IsolationForest(n_estimators=100, max_samples='auto', contamination=float(0.1),max_features=1.0)\n",
        "x= df.values\n",
        "model.fit(x)\n",
        "\n",
        "df2 = df[['deltaw', 'index']]\n",
        "df2['anomaly']=model.predict(x)\n",
        "outlier_index_for = np.where(df2['anomaly'] == -1)\n",
        "\n",
        "outlier_values_for = df2.iloc[outlier_index]\n",
        "\n",
        "\n",
        "plt.scatter(df2[\"deltaw\"], df2[\"index\"], color = \"b\", s = 65)\n",
        "# plot outlier values\n",
        "plt.scatter(outlier_values_for[\"deltaw\"], outlier_values_for[\"index\"], color = \"r\")\n"
      ],
      "execution_count": 133,
      "outputs": [
        {
          "output_type": "execute_result",
          "data": {
            "text/plain": [
              "<matplotlib.collections.PathCollection at 0x7fabec74b690>"
            ]
          },
          "metadata": {},
          "execution_count": 133
        },
        {
          "output_type": "display_data",
          "data": {
            "image/png": "[encoded data removed]",
            "text/plain": [
              "<Figure size 432x288 with 1 Axes>"
            ]
          },
          "metadata": {
            "needs_background": "light"
          }
        }
      ]
    }
  ]
}